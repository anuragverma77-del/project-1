{
  "nbformat": 4,
  "nbformat_minor": 0,
  "metadata": {
    "colab": {
      "provenance": [],
      "authorship_tag": "ABX9TyO1YTsaJhsw8p66ZC855IHO",
      "include_colab_link": true
    },
    "kernelspec": {
      "name": "python3",
      "display_name": "Python 3"
    },
    "language_info": {
      "name": "python"
    }
  },
  "cells": [
    {
      "cell_type": "markdown",
      "metadata": {
        "id": "view-in-github",
        "colab_type": "text"
      },
      "source": [
        "<a href=\"https://colab.research.google.com/github/anuragverma77-del/project-1/blob/main/project.ipynb\" target=\"_parent\"><img src=\"https://colab.research.google.com/assets/colab-badge.svg\" alt=\"Open In Colab\"/></a>"
      ]
    },
    {
      "cell_type": "code",
      "source": [
        "pip install numpy nltk"
      ],
      "metadata": {
        "colab": {
          "base_uri": "https://localhost:8080/"
        },
        "id": "oNtyqzIXHaNP",
        "outputId": "6de36662-087a-4d6a-c9cc-55962338abaa"
      },
      "execution_count": 3,
      "outputs": [
        {
          "output_type": "stream",
          "name": "stdout",
          "text": [
            "Requirement already satisfied: numpy in /usr/local/lib/python3.10/dist-packages (1.26.4)\n",
            "Requirement already satisfied: nltk in /usr/local/lib/python3.10/dist-packages (3.8.1)\n",
            "Requirement already satisfied: click in /usr/local/lib/python3.10/dist-packages (from nltk) (8.1.7)\n",
            "Requirement already satisfied: joblib in /usr/local/lib/python3.10/dist-packages (from nltk) (1.4.2)\n",
            "Requirement already satisfied: regex>=2021.8.3 in /usr/local/lib/python3.10/dist-packages (from nltk) (2024.9.11)\n",
            "Requirement already satisfied: tqdm in /usr/local/lib/python3.10/dist-packages (from nltk) (4.66.5)\n"
          ]
        }
      ]
    },
    {
      "cell_type": "code",
      "execution_count": 4,
      "metadata": {
        "colab": {
          "base_uri": "https://localhost:8080/"
        },
        "id": "WTbtfe-fGz4r",
        "outputId": "f475ca40-8fdb-4160-fc02-d5b4c2c3e26f"
      },
      "outputs": [
        {
          "output_type": "stream",
          "name": "stdout",
          "text": [
            "Generated Text:\n",
            " the dog was very slow . the quick fox jumps over the quick fox was very fast and the dog\n"
          ]
        },
        {
          "output_type": "stream",
          "name": "stderr",
          "text": [
            "[nltk_data] Downloading package punkt to /root/nltk_data...\n",
            "[nltk_data]   Package punkt is already up-to-date!\n"
          ]
        }
      ],
      "source": [
        "\n",
        "import numpy as np\n",
        "import nltk\n",
        "from collections import defaultdict\n",
        "import random\n",
        "\n",
        "# Download the tokenizer package (if not already installed)\n",
        "nltk.download('punkt')\n",
        "\n",
        "# Step 1: Load and preprocess the text data\n",
        "def preprocess_text(text):\n",
        "    # Tokenize the text into words\n",
        "    words = nltk.word_tokenize(text.lower())  # Convert to lowercase\n",
        "    return words\n",
        "\n",
        "# Step 2: Build the Markov Chain\n",
        "def build_markov_chain(words):\n",
        "    markov_chain = defaultdict(list)\n",
        "\n",
        "    # Create the chain by storing transitions from each word to the next\n",
        "    for current_word, next_word in zip(words[:-1], words[1:]):\n",
        "        markov_chain[current_word].append(next_word)\n",
        "\n",
        "    return markov_chain\n",
        "\n",
        "# Step 3: Generate text using the Markov Chain\n",
        "def generate_text(markov_chain, start_word, length=50):\n",
        "    current_word = start_word\n",
        "    output_text = [current_word]\n",
        "\n",
        "    for _ in range(length - 1):\n",
        "        if current_word in markov_chain:\n",
        "            next_word = random.choice(markov_chain[current_word])\n",
        "            output_text.append(next_word)\n",
        "            current_word = next_word\n",
        "        else:\n",
        "            break  # Stop if we can't find a next word\n",
        "\n",
        "    return ' '.join(output_text)\n",
        "\n",
        "# Example Text Data\n",
        "text_data = \"\"\"\n",
        "The quick brown fox jumps over the lazy dog. The dog was not amused. The quick fox was very fast and the dog was very slow.\n",
        "\"\"\"\n",
        "\n",
        "# Preprocess the text\n",
        "words = preprocess_text(text_data)\n",
        "\n",
        "# Build the Markov Chain from the preprocessed words\n",
        "markov_chain = build_markov_chain(words)\n",
        "\n",
        "# Choose a random start word\n",
        "start_word = random.choice(words)\n",
        "\n",
        "# Step 4: Generate text from the Markov Chain\n",
        "generated_text = generate_text(markov_chain, start_word, length=20)\n",
        "\n",
        "print(\"Generated Text:\\n\", generated_text)"
      ]
    }
  ]
}